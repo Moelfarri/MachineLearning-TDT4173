{
 "cells": [
  {
   "cell_type": "markdown",
   "id": "b64ace7f",
   "metadata": {},
   "source": [
    "# Decision Tree\n",
    "\n",
    "\n",
    "For this problem, you will be implementing a Decision Tree classifier that works on discrete (categorical) features. Although a relatively simple learning algorithm, the Decision Tree is often used as a fundamental building block for more powerful (and popular) models such as Random Forest and Gradient Boosted ensembles. \n",
    "\n",
    "You should base your solution on the [ID3](https://en.wikipedia.org/wiki/ID3_algorithmhttps://en.wikipedia.org/wiki/ID3_algorithm) algorithm. This is a basic tree-learning algorithm that greedly grows a tree based on _information gain_ (reduction in entropy). Please refer to Chapter 3 of _Machine Learning_ by Tom M. Mitchell for more details. \n",
    "\n",
    "\n",
    "We have provided some skeleton code for the classifier, along with a couple of utility functions in the [decision_tree.py](./decision_tree.py) module. Please fill out the functions marked with `TODO` and feel free to add extra constructor arguments as you see fit (just make sure the default constructor solves the first dataset).\n"
   ]
  },
  {
   "cell_type": "code",
   "execution_count": 32,
   "id": "c2595a21",
   "metadata": {},
   "outputs": [
    {
     "name": "stdout",
     "output_type": "stream",
     "text": [
      "The autoreload extension is already loaded. To reload it, use:\n",
      "  %reload_ext autoreload\n"
     ]
    }
   ],
   "source": [
    "%load_ext autoreload"
   ]
  },
  {
   "cell_type": "markdown",
   "id": "7a7f2427",
   "metadata": {},
   "source": [
    "We begin by loading necessary packages. Below follows a short description of the imported modules:\n",
    "\n",
    "- `numpy` is the defacto python package for numerical calculation. Most other numerical libraries (including pandas) is based on numpy.\n",
    "- `pandas` is a widely used package for manipulating (mostly) tabular data\n",
    "- `decision_tree` refers to the module in this folder that should be further implemented by you\n",
    "\n",
    "Note: The `%autoreload` statement is an [IPython magic command](https://ipython.readthedocs.io/en/stable/interactive/magics.html) that automatically reloads the newest version of all imported modules within the cell. This means that you can edit the `decision_tree.py` file and just rerun this cell to get the updated version."
   ]
  },
  {
   "cell_type": "code",
   "execution_count": 33,
   "id": "cdb81000",
   "metadata": {},
   "outputs": [],
   "source": [
    "%autoreload\n",
    "\n",
    "import numpy as np \n",
    "import pandas as pd \n",
    "import decision_tree as dt  # <-- Your implementation"
   ]
  },
  {
   "cell_type": "markdown",
   "id": "a97031f7",
   "metadata": {},
   "source": [
    "## [1] First Dataset\n",
    "\n",
    "The first dataset is a toy problem lifted from Table 3.2 in the Machine Learning textbook. The objective is to predict whether a given day is suitable for playing tennis based on several weather conditions. \n",
    "\n",
    "### [1.1] Load Data\n",
    "\n",
    "We begin by loading data from the .csv file located in the same folder as this notebook."
   ]
  },
  {
   "cell_type": "code",
   "execution_count": 34,
   "id": "fbdf4b83",
   "metadata": {},
   "outputs": [
    {
     "data": {
      "text/html": [
       "<div>\n",
       "<style scoped>\n",
       "    .dataframe tbody tr th:only-of-type {\n",
       "        vertical-align: middle;\n",
       "    }\n",
       "\n",
       "    .dataframe tbody tr th {\n",
       "        vertical-align: top;\n",
       "    }\n",
       "\n",
       "    .dataframe thead th {\n",
       "        text-align: right;\n",
       "    }\n",
       "</style>\n",
       "<table border=\"1\" class=\"dataframe\">\n",
       "  <thead>\n",
       "    <tr style=\"text-align: right;\">\n",
       "      <th></th>\n",
       "      <th>Outlook</th>\n",
       "      <th>Temperature</th>\n",
       "      <th>Humidity</th>\n",
       "      <th>Wind</th>\n",
       "      <th>Play Tennis</th>\n",
       "    </tr>\n",
       "  </thead>\n",
       "  <tbody>\n",
       "    <tr>\n",
       "      <th>0</th>\n",
       "      <td>Sunny</td>\n",
       "      <td>Hot</td>\n",
       "      <td>High</td>\n",
       "      <td>Weak</td>\n",
       "      <td>No</td>\n",
       "    </tr>\n",
       "    <tr>\n",
       "      <th>1</th>\n",
       "      <td>Sunny</td>\n",
       "      <td>Hot</td>\n",
       "      <td>High</td>\n",
       "      <td>Strong</td>\n",
       "      <td>No</td>\n",
       "    </tr>\n",
       "    <tr>\n",
       "      <th>2</th>\n",
       "      <td>Overcast</td>\n",
       "      <td>Hot</td>\n",
       "      <td>High</td>\n",
       "      <td>Weak</td>\n",
       "      <td>Yes</td>\n",
       "    </tr>\n",
       "    <tr>\n",
       "      <th>3</th>\n",
       "      <td>Rain</td>\n",
       "      <td>Mild</td>\n",
       "      <td>High</td>\n",
       "      <td>Weak</td>\n",
       "      <td>Yes</td>\n",
       "    </tr>\n",
       "    <tr>\n",
       "      <th>4</th>\n",
       "      <td>Rain</td>\n",
       "      <td>Cool</td>\n",
       "      <td>Normal</td>\n",
       "      <td>Weak</td>\n",
       "      <td>Yes</td>\n",
       "    </tr>\n",
       "    <tr>\n",
       "      <th>5</th>\n",
       "      <td>Rain</td>\n",
       "      <td>Cool</td>\n",
       "      <td>Normal</td>\n",
       "      <td>Strong</td>\n",
       "      <td>No</td>\n",
       "    </tr>\n",
       "    <tr>\n",
       "      <th>6</th>\n",
       "      <td>Overcast</td>\n",
       "      <td>Cool</td>\n",
       "      <td>Normal</td>\n",
       "      <td>Strong</td>\n",
       "      <td>Yes</td>\n",
       "    </tr>\n",
       "    <tr>\n",
       "      <th>7</th>\n",
       "      <td>Sunny</td>\n",
       "      <td>Mild</td>\n",
       "      <td>High</td>\n",
       "      <td>Weak</td>\n",
       "      <td>No</td>\n",
       "    </tr>\n",
       "    <tr>\n",
       "      <th>8</th>\n",
       "      <td>Sunny</td>\n",
       "      <td>Cool</td>\n",
       "      <td>Normal</td>\n",
       "      <td>Weak</td>\n",
       "      <td>Yes</td>\n",
       "    </tr>\n",
       "    <tr>\n",
       "      <th>9</th>\n",
       "      <td>Rain</td>\n",
       "      <td>Mild</td>\n",
       "      <td>Normal</td>\n",
       "      <td>Weak</td>\n",
       "      <td>Yes</td>\n",
       "    </tr>\n",
       "    <tr>\n",
       "      <th>10</th>\n",
       "      <td>Sunny</td>\n",
       "      <td>Mild</td>\n",
       "      <td>Normal</td>\n",
       "      <td>Strong</td>\n",
       "      <td>Yes</td>\n",
       "    </tr>\n",
       "    <tr>\n",
       "      <th>11</th>\n",
       "      <td>Overcast</td>\n",
       "      <td>Mild</td>\n",
       "      <td>High</td>\n",
       "      <td>Strong</td>\n",
       "      <td>Yes</td>\n",
       "    </tr>\n",
       "    <tr>\n",
       "      <th>12</th>\n",
       "      <td>Overcast</td>\n",
       "      <td>Hot</td>\n",
       "      <td>Normal</td>\n",
       "      <td>Weak</td>\n",
       "      <td>Yes</td>\n",
       "    </tr>\n",
       "    <tr>\n",
       "      <th>13</th>\n",
       "      <td>Rain</td>\n",
       "      <td>Mild</td>\n",
       "      <td>High</td>\n",
       "      <td>Strong</td>\n",
       "      <td>No</td>\n",
       "    </tr>\n",
       "  </tbody>\n",
       "</table>\n",
       "</div>"
      ],
      "text/plain": [
       "     Outlook Temperature Humidity    Wind Play Tennis\n",
       "0      Sunny         Hot     High    Weak          No\n",
       "1      Sunny         Hot     High  Strong          No\n",
       "2   Overcast         Hot     High    Weak         Yes\n",
       "3       Rain        Mild     High    Weak         Yes\n",
       "4       Rain        Cool   Normal    Weak         Yes\n",
       "5       Rain        Cool   Normal  Strong          No\n",
       "6   Overcast        Cool   Normal  Strong         Yes\n",
       "7      Sunny        Mild     High    Weak          No\n",
       "8      Sunny        Cool   Normal    Weak         Yes\n",
       "9       Rain        Mild   Normal    Weak         Yes\n",
       "10     Sunny        Mild   Normal  Strong         Yes\n",
       "11  Overcast        Mild     High  Strong         Yes\n",
       "12  Overcast         Hot   Normal    Weak         Yes\n",
       "13      Rain        Mild     High  Strong          No"
      ]
     },
     "execution_count": 34,
     "metadata": {},
     "output_type": "execute_result"
    }
   ],
   "source": [
    "data_1 = pd.read_csv('data_1.csv')\n",
    "data_1"
   ]
  },
  {
   "cell_type": "markdown",
   "id": "6a43ffe9",
   "metadata": {},
   "source": [
    "### [1.2] Fit and Evaluate Model\n",
    "\n",
    "Next we fit and evaluate a Decision Tree over the dataset. We first partition the data into the dependent (`y` = Play Tennis) and independent (`X` = everything else) variables. We then initialize a Decision Tree learner and fit it to all the data. Finally, we evaluate the model over the same data by calculating its accuracy, i.e. the fraction of correctly classified samples.\n",
    "\n",
    "Note that `.fit` and `.predict` will crash until you implement these two methods in [decision_tree.py](./decision_tree.py).\n",
    "\n",
    "Assuming that you've correctly implemented the ID3 algorithm as described in the course textbook, you should expect the model to perfectly fit the training data. That is, you should get a classification accuracy of 100%."
   ]
  },
  {
   "cell_type": "code",
   "execution_count": 35,
   "id": "524486cd",
   "metadata": {},
   "outputs": [
    {
     "name": "stdout",
     "output_type": "stream",
     "text": [
      "Accuracy: 100.0%\n"
     ]
    }
   ],
   "source": [
    "# Separate independent (X) and dependent (y) variables\n",
    "X = data_1.drop(columns=['Play Tennis'])\n",
    "y = data_1['Play Tennis']\n",
    "\n",
    "# Create and fit a Decrision Tree classifier\n",
    "model_1 = dt.DecisionTree()  # <-- Should work with default constructor\n",
    "model_1.fit(X, y)\n",
    "\n",
    "# Verify that it perfectly fits the training set\n",
    "print(f'Accuracy: {dt.accuracy(y_true=y, y_pred=model_1.predict(X)) * 100 :.1f}%')"
   ]
  },
  {
   "cell_type": "markdown",
   "id": "e5a8df96",
   "metadata": {},
   "source": [
    "### [1.3] Inspect Classification Rules\n",
    "\n",
    "A big advantage of Decision Trees is that they are relatively transparent learners. By this we mean that it is easy for an outside observer to analyse and understand how the model makes its decisions. The problem of being able to reason about how a machine learning model reasons is known as _Explainable AI_ and is often a desirable property of machine learning systems.\n",
    "\n",
    "Every time a Decision Tree is evaluated, the datapoint is compared against a set of nodes starting at the root of the tree and (typically) ending at one of the leaf nodes. An equivalent way to view this reasoning is as an implication rule ($A \\rightarrow B$) where the antecedent ($A$) is a conjunction of of attribute values and the consequent ($B$) is the predicted label. For instance, if a path down the tree first checks if Outlook=Rain, then checks if Wind=Strong, and then predicts Play Tennis=No, this line of reasoning can be represented as:\n",
    "\n",
    "- If $Outlook=Rain \\cap Wind=Strong \\rightarrow$ then predict $Play Tennis = No$\n",
    "\n",
    "We will leverage this property to export the decision tree you just created as a set of rules. For the subsequent cell to work, you must also have implemented the `.get_rules()` method in the provided boilerplate code."
   ]
  },
  {
   "cell_type": "code",
   "execution_count": 36,
   "id": "55b66149",
   "metadata": {},
   "outputs": [
    {
     "name": "stdout",
     "output_type": "stream",
     "text": [
      "❌ Humidity=High ∩ Outlook=Sunny => No\n",
      "✅ Humidity=High ∩ Outlook=Rain ∩ Wind=Weak => Yes\n",
      "✅ Humidity=Normal ∩ Wind=Weak => Yes\n",
      "❌ Humidity=Normal ∩ Wind=Strong ∩ Outlook=Rain => No\n",
      "✅ Humidity=Normal ∩ Wind=Strong ∩ Outlook=Sunny => Yes\n",
      "❌ Humidity=High ∩ Outlook=Rain ∩ Wind=Strong => No\n"
     ]
    }
   ],
   "source": [
    "for rules, label in model_1.get_rules():\n",
    "    conjunction = ' ∩ '.join(f'{attr}={value}' for attr, value in rules)\n",
    "    print(f'{\"✅\" if label == \"Yes\" else \"❌\"} {conjunction} => {label}')"
   ]
  },
  {
   "cell_type": "markdown",
   "id": "f3fe7e14",
   "metadata": {},
   "source": [
    "## [2] Second Dataset\n",
    "\n",
    "The second dataset involves predicting whether an investment opportunity will result in a successful `Outcome` or not. To make this prediction, you are given a dataset of 200 historical$^1$ business ventures and their outcome, along with the following observed features:\n",
    "\n",
    "- Whether the business oportunity is in a lucurative market or not \n",
    "- Whether the presented business idea has a competitive advantage\n",
    "- Whether the second opinion from another investor is positive or not \n",
    "- The founder's previous experience with startups\n",
    "- The founder's [Zodiac Sign](https://en.wikipedia.org/wiki/Astrologyhttps://en.wikipedia.org/wiki/Astrology)\n",
    "\n",
    "---\n",
    "[1] Disclaimer: The dataset is not based on real-world business ventures. It is synthetic and generated by us. Also, it should not be considered financial advice.\n",
    "\n",
    "### [2.1] Load Data\n",
    "\n",
    "This dataset can also be found in a .csv file in the same folder as this notebook."
   ]
  },
  {
   "cell_type": "code",
   "execution_count": 62,
   "id": "6782e477",
   "metadata": {},
   "outputs": [
    {
     "data": {
      "text/html": [
       "<div>\n",
       "<style scoped>\n",
       "    .dataframe tbody tr th:only-of-type {\n",
       "        vertical-align: middle;\n",
       "    }\n",
       "\n",
       "    .dataframe tbody tr th {\n",
       "        vertical-align: top;\n",
       "    }\n",
       "\n",
       "    .dataframe thead th {\n",
       "        text-align: right;\n",
       "    }\n",
       "</style>\n",
       "<table border=\"1\" class=\"dataframe\">\n",
       "  <thead>\n",
       "    <tr style=\"text-align: right;\">\n",
       "      <th></th>\n",
       "      <th>Founder Zodiac</th>\n",
       "      <th>Founder Experience</th>\n",
       "      <th>Second Opinion</th>\n",
       "      <th>Competitive Advantage</th>\n",
       "      <th>Lucurative Market</th>\n",
       "      <th>Outcome</th>\n",
       "      <th>Split</th>\n",
       "    </tr>\n",
       "  </thead>\n",
       "  <tbody>\n",
       "    <tr>\n",
       "      <th>0</th>\n",
       "      <td>cancer</td>\n",
       "      <td>moderate</td>\n",
       "      <td>negative</td>\n",
       "      <td>yes</td>\n",
       "      <td>no</td>\n",
       "      <td>success</td>\n",
       "      <td>train</td>\n",
       "    </tr>\n",
       "    <tr>\n",
       "      <th>1</th>\n",
       "      <td>cancer</td>\n",
       "      <td>high</td>\n",
       "      <td>positive</td>\n",
       "      <td>yes</td>\n",
       "      <td>no</td>\n",
       "      <td>failure</td>\n",
       "      <td>train</td>\n",
       "    </tr>\n",
       "    <tr>\n",
       "      <th>2</th>\n",
       "      <td>scorpio</td>\n",
       "      <td>low</td>\n",
       "      <td>negative</td>\n",
       "      <td>no</td>\n",
       "      <td>no</td>\n",
       "      <td>failure</td>\n",
       "      <td>train</td>\n",
       "    </tr>\n",
       "    <tr>\n",
       "      <th>3</th>\n",
       "      <td>cancer</td>\n",
       "      <td>low</td>\n",
       "      <td>negative</td>\n",
       "      <td>no</td>\n",
       "      <td>no</td>\n",
       "      <td>failure</td>\n",
       "      <td>train</td>\n",
       "    </tr>\n",
       "    <tr>\n",
       "      <th>4</th>\n",
       "      <td>aquarius</td>\n",
       "      <td>low</td>\n",
       "      <td>positive</td>\n",
       "      <td>yes</td>\n",
       "      <td>yes</td>\n",
       "      <td>success</td>\n",
       "      <td>train</td>\n",
       "    </tr>\n",
       "    <tr>\n",
       "      <th>...</th>\n",
       "      <td>...</td>\n",
       "      <td>...</td>\n",
       "      <td>...</td>\n",
       "      <td>...</td>\n",
       "      <td>...</td>\n",
       "      <td>...</td>\n",
       "      <td>...</td>\n",
       "    </tr>\n",
       "    <tr>\n",
       "      <th>195</th>\n",
       "      <td>capricorn</td>\n",
       "      <td>moderate</td>\n",
       "      <td>positive</td>\n",
       "      <td>no</td>\n",
       "      <td>yes</td>\n",
       "      <td>failure</td>\n",
       "      <td>test</td>\n",
       "    </tr>\n",
       "    <tr>\n",
       "      <th>196</th>\n",
       "      <td>aquarius</td>\n",
       "      <td>low</td>\n",
       "      <td>negative</td>\n",
       "      <td>no</td>\n",
       "      <td>yes</td>\n",
       "      <td>failure</td>\n",
       "      <td>test</td>\n",
       "    </tr>\n",
       "    <tr>\n",
       "      <th>197</th>\n",
       "      <td>cancer</td>\n",
       "      <td>moderate</td>\n",
       "      <td>negative</td>\n",
       "      <td>no</td>\n",
       "      <td>yes</td>\n",
       "      <td>failure</td>\n",
       "      <td>test</td>\n",
       "    </tr>\n",
       "    <tr>\n",
       "      <th>198</th>\n",
       "      <td>virgo</td>\n",
       "      <td>moderate</td>\n",
       "      <td>negative</td>\n",
       "      <td>no</td>\n",
       "      <td>no</td>\n",
       "      <td>failure</td>\n",
       "      <td>test</td>\n",
       "    </tr>\n",
       "    <tr>\n",
       "      <th>199</th>\n",
       "      <td>capricorn</td>\n",
       "      <td>moderate</td>\n",
       "      <td>negative</td>\n",
       "      <td>yes</td>\n",
       "      <td>no</td>\n",
       "      <td>success</td>\n",
       "      <td>test</td>\n",
       "    </tr>\n",
       "  </tbody>\n",
       "</table>\n",
       "<p>200 rows × 7 columns</p>\n",
       "</div>"
      ],
      "text/plain": [
       "    Founder Zodiac Founder Experience Second Opinion Competitive Advantage  \\\n",
       "0           cancer           moderate       negative                   yes   \n",
       "1           cancer               high       positive                   yes   \n",
       "2          scorpio                low       negative                    no   \n",
       "3           cancer                low       negative                    no   \n",
       "4         aquarius                low       positive                   yes   \n",
       "..             ...                ...            ...                   ...   \n",
       "195      capricorn           moderate       positive                    no   \n",
       "196       aquarius                low       negative                    no   \n",
       "197         cancer           moderate       negative                    no   \n",
       "198          virgo           moderate       negative                    no   \n",
       "199      capricorn           moderate       negative                   yes   \n",
       "\n",
       "    Lucurative Market  Outcome  Split  \n",
       "0                  no  success  train  \n",
       "1                  no  failure  train  \n",
       "2                  no  failure  train  \n",
       "3                  no  failure  train  \n",
       "4                 yes  success  train  \n",
       "..                ...      ...    ...  \n",
       "195               yes  failure   test  \n",
       "196               yes  failure   test  \n",
       "197               yes  failure   test  \n",
       "198                no  failure   test  \n",
       "199                no  success   test  \n",
       "\n",
       "[200 rows x 7 columns]"
      ]
     },
     "execution_count": 62,
     "metadata": {},
     "output_type": "execute_result"
    }
   ],
   "source": [
    "data_2 = pd.read_csv('data_2.csv')\n",
    "data_2"
   ]
  },
  {
   "cell_type": "markdown",
   "id": "95680e85",
   "metadata": {},
   "source": [
    "### [2.2] Split Data\n",
    "\n",
    "We've also taken the liberty to pre-split the dataset into three different sets:\n",
    "\n",
    "- `train` contains 50 samples that you should use to generate the tree\n",
    "- `valid` contains 50 samples that you can use to evaluate different preprocessing methods and variations to the tree-learning algorithm.\n",
    "- `test` contains 100 samples and should only be used to evaluate the final model once you're done experimenting."
   ]
  },
  {
   "cell_type": "code",
   "execution_count": 159,
   "id": "ad217f16",
   "metadata": {},
   "outputs": [
    {
     "data": {
      "text/plain": [
       "test     100\n",
       "train     50\n",
       "valid     50\n",
       "Name: Split, dtype: int64"
      ]
     },
     "execution_count": 159,
     "metadata": {},
     "output_type": "execute_result"
    }
   ],
   "source": [
    "data_2_train = data_2.query('Split == \"train\"')\n",
    "data_2_valid = data_2.query('Split == \"valid\"')\n",
    "data_2_test = data_2.query('Split == \"test\"')\n",
    "X_train, y_train = data_2_train.drop(columns=['Outcome', 'Split']), data_2_train.Outcome\n",
    "X_valid, y_valid = data_2_valid.drop(columns=['Outcome', 'Split']), data_2_valid.Outcome\n",
    "X_test, y_test = data_2_test.drop(columns=['Outcome', 'Split']), data_2_test.Outcome\n",
    "data_2.Split.value_counts()\n"
   ]
  },
  {
   "cell_type": "markdown",
   "id": "095a3efc",
   "metadata": {},
   "source": [
    "### [2.3] Fit and Evaluate Model\n",
    "\n",
    "You may notice that the basic ID3 algorithm you developed for the first dataset does not generalize well when applied straight to this problem. Feel free to add extra functionality to it and/or the data preprocessing pipeline that might improve performance on the validation (and ultimately test set). As a debugging reference; it is highly possible to obtain accuracies over the validation and test set ranging from mid ~80% to low ~90%."
   ]
  },
  {
   "cell_type": "code",
   "execution_count": 150,
   "id": "b41951e5",
   "metadata": {},
   "outputs": [
    {
     "name": "stdout",
     "output_type": "stream",
     "text": [
      "Train: 100.0%\n",
      "Valid: 68.0%\n",
      "Test: 69.0%\n"
     ]
    }
   ],
   "source": [
    "# Fit model (TO TRAIN SET ONLY)\n",
    "model_2 = dt.DecisionTree()  # <-- Feel free to add hyperparameters \n",
    "model_2.fit(X_train, y_train)\n",
    "\n",
    "print(f'Train: {dt.accuracy(y_train, model_2.predict(X_train)) * 100 :.1f}%')\n",
    "print(f'Valid: {dt.accuracy(y_valid, model_2.predict(X_valid)) * 100 :.1f}%')\n",
    "print(f'Test: {dt.accuracy(y_test, model_2.predict(X_test)) * 100 :.1f}%')"
   ]
  },
  {
   "cell_type": "markdown",
   "id": "decccb1d",
   "metadata": {},
   "source": [
    "## [3] Further steps (optional)\n",
    "\n",
    "If you're done with the assignment but want to some more challenges; consider the following:\n",
    "\n",
    "- Make a Decision Tree learner that can handle numerical attributes\n",
    "- Make a Decision Tree learner that can handle numerical targets (regresion tree)\n",
    "- Try implementing [Random Forest](https://en.wikipedia.org/wiki/Random_forest) on top of your Decision Tree algorithm\n",
    "\n",
    "If you need more data for experimenting, UC Irvine hosts a [large repository](https://archive.ics.uci.edu/ml/datasets.php) of machine learning datasets.\n"
   ]
  },
  {
   "cell_type": "code",
   "execution_count": 163,
   "id": "8352859b-5fac-4f4c-a0a5-14ec6dcfc653",
   "metadata": {},
   "outputs": [
    {
     "name": "stdout",
     "output_type": "stream",
     "text": [
      "Train: 100.0%\n",
      "Valid: 66.0%\n",
      "Test: 68.0%\n"
     ]
    }
   ],
   "source": [
    "#SKLEARN METHOD TO PURSUE:\n",
    "from sklearn.tree import DecisionTreeRegressor\n",
    "\n",
    "data_2_train = data_2.query('Split == \"train\"')\n",
    "data_2_valid = data_2.query('Split == \"valid\"')\n",
    "data_2_test = data_2.query('Split == \"test\"')\n",
    "\n",
    "data_2_train = np.array(data_2_train)\n",
    "data_2_valid = np.array(data_2_valid)\n",
    "data_2_test = np.array(data_2_test)\n",
    "\n",
    "#Sklearn only apparently takes one-hot encoded categories into tree methods\n",
    "from sklearn import preprocessing\n",
    "le = preprocessing.LabelEncoder()\n",
    "for i in range(6):\n",
    "    data_2_train[:,i] = le.fit_transform(data_2_train[:,i])\n",
    "    data_2_valid[:,i] = le.fit_transform(data_2_valid[:,i])\n",
    "    data_2_test[:,i] = le.fit_transform(data_2_test[:,i])\n",
    "\n",
    "\n",
    "data_2_train = pd.DataFrame(data_2_train)\n",
    "data_2_valid = pd.DataFrame(data_2_valid)\n",
    "data_2_test = pd.DataFrame(data_2_test)\n",
    "\n",
    "\n",
    "X_train, y_train = data_2_train.drop(columns=[5,6]), data_2_train[5]\n",
    "X_valid, y_valid = data_2_valid.drop(columns=[5,6]), data_2_valid[5]\n",
    "X_test, y_test = data_2_test.drop(columns=[5,6]), data_2_test[5]\n",
    "\n",
    "    \n",
    "# Fit model (TO TRAIN SET ONLY)\n",
    "model_3 = DecisionTreeRegressor(criterion=\"mae\")  # <-- Feel free to add hyperparameters \n",
    "\n",
    "model_3.fit(np.array(X_train), np.array(y_train))\n",
    "\n",
    "print(f'Train: {dt.accuracy(y_train, model_3.predict(np.array(X_train))) * 100 :.1f}%')\n",
    "print(f'Valid: {dt.accuracy(y_valid, model_3.predict(np.array(X_valid))) * 100 :.1f}%')\n",
    "print(f'Test: {dt.accuracy(y_test, model_3.predict(np.array(X_test))) * 100 :.1f}%')"
   ]
  },
  {
   "cell_type": "code",
   "execution_count": 327,
   "id": "9b7b45a9-152d-4626-9798-1ec0704d641f",
   "metadata": {},
   "outputs": [
    {
     "name": "stdout",
     "output_type": "stream",
     "text": [
      "Train: 100.0%\n",
      "Valid: 70.0%\n",
      "Test: 76.0%\n"
     ]
    }
   ],
   "source": [
    "#SKLEARN METHOD TO PURSUE:\n",
    "from sklearn.tree import DecisionTreeClassifier\n",
    "\n",
    "\n",
    "# Fit model (TO TRAIN SET ONLY)\n",
    "model_3 = DecisionTreeClassifier(criterion=\"entropy\", max_features=2)  # <-- Feel free to add hyperparameters \n",
    "\n",
    "model_3.fit(X_train, y_train.astype('int'))\n",
    "\n",
    "print(f'Train: {dt.accuracy(y_train, model_3.predict(np.array(X_train))) * 100 :.1f}%')\n",
    "print(f'Valid: {dt.accuracy(y_valid, model_3.predict(np.array(X_valid))) * 100 :.1f}%')\n",
    "print(f'Test: {dt.accuracy(y_test, model_3.predict(np.array(X_test))) * 100 :.1f}%')\n",
    "\n",
    "#TODO:\n",
    "#Run gridsearch for the Tree Classifier to find best parameters for it.\n",
    "#Then implement it"
   ]
  },
  {
   "cell_type": "code",
   "execution_count": null,
   "id": "11546ac5-0966-4715-a127-a809367c9242",
   "metadata": {},
   "outputs": [],
   "source": []
  },
  {
   "cell_type": "code",
   "execution_count": null,
   "id": "81288aa9-257e-414a-8948-34e131a9a65e",
   "metadata": {},
   "outputs": [],
   "source": []
  }
 ],
 "metadata": {
  "kernelspec": {
   "display_name": "Python 3",
   "language": "python",
   "name": "python3"
  },
  "language_info": {
   "codemirror_mode": {
    "name": "ipython",
    "version": 3
   },
   "file_extension": ".py",
   "mimetype": "text/x-python",
   "name": "python",
   "nbconvert_exporter": "python",
   "pygments_lexer": "ipython3",
   "version": "3.6.13"
  }
 },
 "nbformat": 4,
 "nbformat_minor": 5
}
